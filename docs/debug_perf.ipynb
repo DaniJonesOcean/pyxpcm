{
 "cells": [
  {
   "cell_type": "markdown",
   "metadata": {
    "papermill": {
     "duration": 0.012383,
     "end_time": "2020-06-25T15:14:08.928325",
     "exception": false,
     "start_time": "2020-06-25T15:14:08.915942",
     "status": "completed"
    },
    "tags": [],
    "toc-hr-collapsed": false
   },
   "source": [
    "# Debugging and performances"
   ]
  },
  {
   "cell_type": "code",
   "execution_count": 1,
   "metadata": {
    "execution": {
     "iopub.execute_input": "2020-06-25T15:14:08.957973Z",
     "iopub.status.busy": "2020-06-25T15:14:08.956592Z",
     "iopub.status.idle": "2020-06-25T15:14:10.667846Z",
     "shell.execute_reply": "2020-06-25T15:14:10.668659Z"
    },
    "nbsphinx": "hidden",
    "papermill": {
     "duration": 1.730847,
     "end_time": "2020-06-25T15:14:10.668843",
     "exception": false,
     "start_time": "2020-06-25T15:14:08.937996",
     "status": "completed"
    },
    "tags": []
   },
   "outputs": [
    {
     "name": "stdout",
     "output_type": "stream",
     "text": [
      "xarray: 0.15.1, /Users/gmaze/anaconda/envs/obidam36/lib/python3.6/site-packages/xarray/__init__.py\n"
     ]
    },
    {
     "name": "stdout",
     "output_type": "stream",
     "text": [
      "pyxpcm: 0.4.1, /Users/gmaze/git/github/gmaze/pyxpcm/pyxpcm/__init__.py\n"
     ]
    }
   ],
   "source": [
    "# Hidden cell\n",
    "import os, sys\n",
    "import numpy as np\n",
    "import pandas as pd\n",
    "import xarray as xr\n",
    "print(\"xarray: %s, %s\" % (xr.__version__, xr.__file__))\n",
    "\n",
    "import matplotlib.pyplot as plt\n",
    "%matplotlib inline\n",
    "sys.path.insert(0, os.path.abspath('/Users/gmaze/git/github/gmaze/pyxpcm'))\n",
    "\n",
    "import pyxpcm\n",
    "print(\"pyxpcm: %s, %s\" % (pyxpcm.__version__, pyxpcm.__file__))"
   ]
  },
  {
   "cell_type": "markdown",
   "metadata": {
    "papermill": {
     "duration": 0.011715,
     "end_time": "2020-06-25T15:14:10.691805",
     "exception": false,
     "start_time": "2020-06-25T15:14:10.680090",
     "status": "completed"
    },
    "tags": []
   },
   "source": [
    "**Import and set-up**\n",
    "\n",
    "Import the library and toy data"
   ]
  },
  {
   "cell_type": "code",
   "execution_count": 2,
   "metadata": {
    "execution": {
     "iopub.execute_input": "2020-06-25T15:14:10.718288Z",
     "iopub.status.busy": "2020-06-25T15:14:10.717782Z",
     "iopub.status.idle": "2020-06-25T15:14:10.753900Z",
     "shell.execute_reply": "2020-06-25T15:14:10.753444Z"
    },
    "papermill": {
     "duration": 0.051937,
     "end_time": "2020-06-25T15:14:10.753979",
     "exception": false,
     "start_time": "2020-06-25T15:14:10.702042",
     "status": "completed"
    },
    "tags": []
   },
   "outputs": [],
   "source": [
    "import pyxpcm\n",
    "from pyxpcm.models import pcm\n",
    "\n",
    "# Load a dataset to work with:\n",
    "ds = pyxpcm.tutorial.open_dataset('argo').load()\n",
    "\n",
    "# Define vertical axis and features to use:\n",
    "z = np.arange(0.,-1000.,-10.)\n",
    "features_pcm = {'temperature': z, 'salinity': z}\n",
    "features_in_ds = {'temperature': 'TEMP', 'salinity': 'PSAL'}"
   ]
  },
  {
   "cell_type": "markdown",
   "metadata": {
    "papermill": {
     "duration": 0.009318,
     "end_time": "2020-06-25T15:14:10.773440",
     "exception": false,
     "start_time": "2020-06-25T15:14:10.764122",
     "status": "completed"
    },
    "tags": []
   },
   "source": [
    "## Debugging\n",
    "\n",
    "Use option ``debug`` to print log messages "
   ]
  },
  {
   "cell_type": "code",
   "execution_count": 3,
   "metadata": {
    "execution": {
     "iopub.execute_input": "2020-06-25T15:14:10.798943Z",
     "iopub.status.busy": "2020-06-25T15:14:10.798517Z",
     "iopub.status.idle": "2020-06-25T15:14:14.383482Z",
     "shell.execute_reply": "2020-06-25T15:14:14.382953Z"
    },
    "papermill": {
     "duration": 3.599599,
     "end_time": "2020-06-25T15:14:14.383590",
     "exception": false,
     "start_time": "2020-06-25T15:14:10.783991",
     "status": "completed"
    },
    "tags": []
   },
   "outputs": [
    {
     "name": "stdout",
     "output_type": "stream",
     "text": [
      "> Start preprocessing for action 'fit'\n"
     ]
    },
    {
     "name": "stdout",
     "output_type": "stream",
     "text": [
      "\n",
      "\t> Preprocessing xarray dataset 'TEMP' as PCM feature 'temperature'\n"
     ]
    },
    {
     "name": "stdout",
     "output_type": "stream",
     "text": [
      "\t X RAVELED with success [<class 'xarray.core.dataarray.DataArray'>, <class 'dask.array.core.Array'>, ((7560,), (282,))]\n",
      "\t\tOutput axis is in the input axis, not need to interpolate, simple intersection\n",
      "\t X INTERPOLATED with success [<class 'xarray.core.dataarray.DataArray'>, <class 'dask.array.core.Array'>, ((7560,), (100,))]\n",
      "\t X SCALED with success) [<class 'xarray.core.dataarray.DataArray'>, <class 'numpy.ndarray'>, None]\n",
      "\t X REDUCED with success) [<class 'xarray.core.dataarray.DataArray'>, <class 'numpy.ndarray'>, None]\n",
      "\ttemperature pre-processed with success,  [<class 'xarray.core.dataarray.DataArray'>, <class 'numpy.ndarray'>, None]\n",
      "\tHomogenisation for fit of temperature\n",
      "\n",
      "\t> Preprocessing xarray dataset 'PSAL' as PCM feature 'salinity'\n"
     ]
    },
    {
     "name": "stdout",
     "output_type": "stream",
     "text": [
      "\t X RAVELED with success [<class 'xarray.core.dataarray.DataArray'>, <class 'dask.array.core.Array'>, ((7560,), (282,))]\n",
      "\t\tOutput axis is in the input axis, not need to interpolate, simple intersection\n",
      "\t X INTERPOLATED with success [<class 'xarray.core.dataarray.DataArray'>, <class 'dask.array.core.Array'>, ((7560,), (100,))]\n",
      "\t X SCALED with success) [<class 'xarray.core.dataarray.DataArray'>, <class 'numpy.ndarray'>, None]\n"
     ]
    },
    {
     "name": "stdout",
     "output_type": "stream",
     "text": [
      "\t X REDUCED with success) [<class 'xarray.core.dataarray.DataArray'>, <class 'numpy.ndarray'>, None]\n",
      "\tsalinity pre-processed with success,  [<class 'xarray.core.dataarray.DataArray'>, <class 'numpy.ndarray'>, None]\n",
      "\tHomogenisation for fit of salinity\n",
      "\tFeatures array shape and type for xarray: (7560, 30) <class 'numpy.ndarray'> <class 'memoryview'>\n",
      "> Preprocessing done, working with final X (<class 'xarray.core.dataarray.DataArray'>) array of shape: (7560, 30)  and sampling dimensions: ['N_PROF']\n"
     ]
    }
   ],
   "source": [
    "# Instantiate a new PCM:\n",
    "m = pcm(K=8, features=features_pcm, debug=True)\n",
    "\n",
    "# Fit with log:\n",
    "m.fit(ds, features=features_in_ds);"
   ]
  },
  {
   "cell_type": "markdown",
   "metadata": {
    "papermill": {
     "duration": 0.012727,
     "end_time": "2020-06-25T15:14:14.409363",
     "exception": false,
     "start_time": "2020-06-25T15:14:14.396636",
     "status": "completed"
    },
    "tags": [],
    "toc-hr-collapsed": true
   },
   "source": [
    "## Performance / Optimisation\n",
    "\n",
    "Use ``timeit`` and ``timeit_verb`` to compute computation time of PCM operations\n",
    "\n",
    "Times are accessible as a pandas Dataframe in ``timeit`` pyXpcm instance property.\n",
    "\n",
    "The pyXpcm ``m.plot.timeit()`` plot method allows for a simple visualisation of times."
   ]
  },
  {
   "cell_type": "markdown",
   "metadata": {
    "papermill": {
     "duration": 0.011778,
     "end_time": "2020-06-25T15:14:14.434191",
     "exception": false,
     "start_time": "2020-06-25T15:14:14.422413",
     "status": "completed"
    },
    "tags": []
   },
   "source": [
    "### Time readings during execution"
   ]
  },
  {
   "cell_type": "code",
   "execution_count": 4,
   "metadata": {
    "execution": {
     "iopub.execute_input": "2020-06-25T15:14:14.462436Z",
     "iopub.status.busy": "2020-06-25T15:14:14.461705Z",
     "iopub.status.idle": "2020-06-25T15:14:16.568516Z",
     "shell.execute_reply": "2020-06-25T15:14:16.568079Z"
    },
    "papermill": {
     "duration": 2.122481,
     "end_time": "2020-06-25T15:14:16.568607",
     "exception": false,
     "start_time": "2020-06-25T15:14:14.446126",
     "status": "completed"
    },
    "tags": []
   },
   "outputs": [
    {
     "name": "stdout",
     "output_type": "stream",
     "text": [
      "  fit.1-preprocess.1-mask: 21 ms\n",
      "  fit.1-preprocess.2-feature_temperature.1-ravel: 37 ms\n",
      "  fit.1-preprocess.2-feature_temperature.2-interp: 1 ms\n",
      "  fit.1-preprocess.2-feature_temperature.3-scale_fit: 10 ms\n",
      "  fit.1-preprocess.2-feature_temperature.4-scale_transform: 5 ms\n",
      "  fit.1-preprocess.2-feature_temperature.5-reduce_fit: 13 ms\n",
      "  fit.1-preprocess.2-feature_temperature.6-reduce_transform: 3 ms\n",
      "  fit.1-preprocess.2-feature_temperature.total: 72 ms\n",
      "  fit.1-preprocess: 72 ms\n",
      "  fit.1-preprocess.3-homogeniser: 1 ms\n",
      "  fit.1-preprocess.2-feature_salinity.1-ravel: 32 ms\n",
      "  fit.1-preprocess.2-feature_salinity.2-interp: 1 ms\n",
      "  fit.1-preprocess.2-feature_salinity.3-scale_fit: 8 ms\n",
      "  fit.1-preprocess.2-feature_salinity.4-scale_transform: 7 ms\n",
      "  fit.1-preprocess.2-feature_salinity.5-reduce_fit: 12 ms\n",
      "  fit.1-preprocess.2-feature_salinity.6-reduce_transform: 4 ms\n",
      "  fit.1-preprocess.2-feature_salinity.total: 68 ms\n",
      "  fit.1-preprocess: 68 ms\n",
      "  fit.1-preprocess.3-homogeniser: 1 ms\n",
      "  fit.1-preprocess.4-xarray: 1 ms\n",
      "  fit.1-preprocess: 170 ms\n"
     ]
    },
    {
     "name": "stdout",
     "output_type": "stream",
     "text": [
      "  fit.fit: 1924 ms\n",
      "  fit.score: 9 ms\n",
      "  fit: 2104 ms\n"
     ]
    }
   ],
   "source": [
    "# Create a PCM and execute methods:\n",
    "m = pcm(K=8, features=features_pcm, timeit=True, timeit_verb=1)\n",
    "m.fit(ds, features=features_in_ds);"
   ]
  },
  {
   "cell_type": "markdown",
   "metadata": {
    "papermill": {
     "duration": 0.012023,
     "end_time": "2020-06-25T15:14:16.593065",
     "exception": false,
     "start_time": "2020-06-25T15:14:16.581042",
     "status": "completed"
    },
    "tags": []
   },
   "source": [
    "### A posteriori Execution time analysis"
   ]
  },
  {
   "cell_type": "code",
   "execution_count": 5,
   "metadata": {
    "execution": {
     "iopub.execute_input": "2020-06-25T15:14:16.623254Z",
     "iopub.status.busy": "2020-06-25T15:14:16.622325Z",
     "iopub.status.idle": "2020-06-25T15:14:21.304068Z",
     "shell.execute_reply": "2020-06-25T15:14:21.303623Z"
    },
    "papermill": {
     "duration": 4.699314,
     "end_time": "2020-06-25T15:14:21.304151",
     "exception": false,
     "start_time": "2020-06-25T15:14:16.604837",
     "status": "completed"
    },
    "tags": []
   },
   "outputs": [],
   "source": [
    "# Create a PCM and execute methods:\n",
    "m = pcm(K=8, features=features_pcm, timeit=True, timeit_verb=0)\n",
    "m.fit(ds, features=features_in_ds);\n",
    "m.predict(ds, features=features_in_ds);\n",
    "m.fit_predict(ds, features=features_in_ds);"
   ]
  },
  {
   "cell_type": "raw",
   "metadata": {
    "papermill": {
     "duration": 0.015056,
     "end_time": "2020-06-25T15:14:21.332034",
     "exception": false,
     "start_time": "2020-06-25T15:14:21.316978",
     "status": "completed"
    },
    "raw_mimetype": "text/restructuredtext",
    "tags": []
   },
   "source": [
    "Execution times are accessible through a dataframe with the :py:attr:`pyxpcm.pcm.timeit` property"
   ]
  },
  {
   "cell_type": "code",
   "execution_count": 6,
   "metadata": {
    "execution": {
     "iopub.execute_input": "2020-06-25T15:14:21.375879Z",
     "iopub.status.busy": "2020-06-25T15:14:21.365585Z",
     "iopub.status.idle": "2020-06-25T15:14:21.378937Z",
     "shell.execute_reply": "2020-06-25T15:14:21.379634Z"
    },
    "papermill": {
     "duration": 0.035312,
     "end_time": "2020-06-25T15:14:21.379757",
     "exception": false,
     "start_time": "2020-06-25T15:14:21.344445",
     "status": "completed"
    },
    "tags": []
   },
   "outputs": [
    {
     "data": {
      "text/plain": [
       "Method       Sub-method    Sub-sub-method         Sub-sub-sub-method\n",
       "fit          1-preprocess  1-mask                 total                   22.429943\n",
       "                           2-feature_temperature  1-ravel                 36.209106\n",
       "                                                  2-interp                 0.910044\n",
       "                                                  3-scale_fit             11.093140\n",
       "                                                  4-scale_transform        5.489826\n",
       "                                                                           ...     \n",
       "fit_predict  fit           total                                        1992.238998\n",
       "             score         total                                          10.225058\n",
       "             predict       total                                           7.714033\n",
       "             xarray        total                                           8.226156\n",
       "             total                                                      2136.855841\n",
       "Length: 66, dtype: float64"
      ]
     },
     "execution_count": 6,
     "metadata": {},
     "output_type": "execute_result"
    }
   ],
   "source": [
    "m.timeit"
   ]
  },
  {
   "cell_type": "markdown",
   "metadata": {
    "papermill": {
     "duration": 0.012848,
     "end_time": "2020-06-25T15:14:21.404808",
     "exception": false,
     "start_time": "2020-06-25T15:14:21.391960",
     "status": "completed"
    },
    "raw_mimetype": "-",
    "tags": []
   },
   "source": [
    "## Visualisation help"
   ]
  },
  {
   "cell_type": "raw",
   "metadata": {
    "papermill": {
     "duration": 0.015851,
     "end_time": "2020-06-25T15:14:21.434782",
     "exception": false,
     "start_time": "2020-06-25T15:14:21.418931",
     "status": "completed"
    },
    "raw_mimetype": "text/restructuredtext",
    "tags": []
   },
   "source": [
    "To facilitate your analysis of execution times, you can use :meth:`pyxpcm.plot.timeit`."
   ]
  },
  {
   "cell_type": "markdown",
   "metadata": {
    "papermill": {
     "duration": 0.018031,
     "end_time": "2020-06-25T15:14:21.470533",
     "exception": false,
     "start_time": "2020-06-25T15:14:21.452502",
     "status": "completed"
    },
    "tags": []
   },
   "source": [
    "### Main steps by method"
   ]
  },
  {
   "cell_type": "code",
   "execution_count": 7,
   "metadata": {
    "execution": {
     "iopub.execute_input": "2020-06-25T15:14:21.512562Z",
     "iopub.status.busy": "2020-06-25T15:14:21.505671Z",
     "iopub.status.idle": "2020-06-25T15:14:21.765871Z",
     "shell.execute_reply": "2020-06-25T15:14:21.765491Z"
    },
    "papermill": {
     "duration": 0.280966,
     "end_time": "2020-06-25T15:14:21.765941",
     "exception": false,
     "start_time": "2020-06-25T15:14:21.484975",
     "status": "completed"
    },
    "tags": []
   },
   "outputs": [
    {
     "data": {
      "text/html": [
       "<div>\n",
       "<style scoped>\n",
       "    .dataframe tbody tr th:only-of-type {\n",
       "        vertical-align: middle;\n",
       "    }\n",
       "\n",
       "    .dataframe tbody tr th {\n",
       "        vertical-align: top;\n",
       "    }\n",
       "\n",
       "    .dataframe thead th {\n",
       "        text-align: right;\n",
       "    }\n",
       "</style>\n",
       "<table border=\"1\" class=\"dataframe\">\n",
       "  <thead>\n",
       "    <tr style=\"text-align: right;\">\n",
       "      <th>Sub-method</th>\n",
       "      <th>1-preprocess</th>\n",
       "      <th>fit</th>\n",
       "      <th>predict</th>\n",
       "      <th>score</th>\n",
       "      <th>xarray</th>\n",
       "    </tr>\n",
       "    <tr>\n",
       "      <th>Method</th>\n",
       "      <th></th>\n",
       "      <th></th>\n",
       "      <th></th>\n",
       "      <th></th>\n",
       "      <th></th>\n",
       "    </tr>\n",
       "  </thead>\n",
       "  <tbody>\n",
       "    <tr>\n",
       "      <th>fit</th>\n",
       "      <td>572.551250</td>\n",
       "      <td>2231.193781</td>\n",
       "      <td>NaN</td>\n",
       "      <td>10.217905</td>\n",
       "      <td>NaN</td>\n",
       "    </tr>\n",
       "    <tr>\n",
       "      <th>fit_predict</th>\n",
       "      <td>415.835381</td>\n",
       "      <td>1992.238998</td>\n",
       "      <td>7.714033</td>\n",
       "      <td>10.225058</td>\n",
       "      <td>8.226156</td>\n",
       "    </tr>\n",
       "    <tr>\n",
       "      <th>predict</th>\n",
       "      <td>393.666744</td>\n",
       "      <td>NaN</td>\n",
       "      <td>11.328936</td>\n",
       "      <td>9.020329</td>\n",
       "      <td>8.499861</td>\n",
       "    </tr>\n",
       "  </tbody>\n",
       "</table>\n",
       "</div>"
      ],
      "text/plain": [
       "Sub-method   1-preprocess          fit    predict      score    xarray\n",
       "Method                                                                \n",
       "fit            572.551250  2231.193781        NaN  10.217905       NaN\n",
       "fit_predict    415.835381  1992.238998   7.714033  10.225058  8.226156\n",
       "predict        393.666744          NaN  11.328936   9.020329  8.499861"
      ]
     },
     "execution_count": 7,
     "metadata": {},
     "output_type": "execute_result"
    },
    {
     "data": {
      "image/png": "[encoded data removed]",
      "text/plain": [
       "<Figure size 450x270 with 1 Axes>"
      ]
     },
     "metadata": {},
     "output_type": "display_data"
    }
   ],
   "source": [
    "fig, ax, df = m.plot.timeit(group='Method', split='Sub-method', style='darkgrid') # Default group/split\n",
    "df"
   ]
  },
  {
   "cell_type": "markdown",
   "metadata": {
    "papermill": {
     "duration": 0.012584,
     "end_time": "2020-06-25T15:14:21.791274",
     "exception": false,
     "start_time": "2020-06-25T15:14:21.778690",
     "status": "completed"
    },
    "tags": []
   },
   "source": [
    "### Preprocessing main steps by method"
   ]
  },
  {
   "cell_type": "code",
   "execution_count": 8,
   "metadata": {
    "execution": {
     "iopub.execute_input": "2020-06-25T15:14:21.825503Z",
     "iopub.status.busy": "2020-06-25T15:14:21.825051Z",
     "iopub.status.idle": "2020-06-25T15:14:22.042677Z",
     "shell.execute_reply": "2020-06-25T15:14:22.042297Z"
    },
    "papermill": {
     "duration": 0.237813,
     "end_time": "2020-06-25T15:14:22.042747",
     "exception": false,
     "start_time": "2020-06-25T15:14:21.804934",
     "status": "completed"
    },
    "tags": []
   },
   "outputs": [
    {
     "data": {
      "text/html": [
       "<div>\n",
       "<style scoped>\n",
       "    .dataframe tbody tr th:only-of-type {\n",
       "        vertical-align: middle;\n",
       "    }\n",
       "\n",
       "    .dataframe tbody tr th {\n",
       "        vertical-align: top;\n",
       "    }\n",
       "\n",
       "    .dataframe thead th {\n",
       "        text-align: right;\n",
       "    }\n",
       "</style>\n",
       "<table border=\"1\" class=\"dataframe\">\n",
       "  <thead>\n",
       "    <tr style=\"text-align: right;\">\n",
       "      <th>Sub-sub-method</th>\n",
       "      <th>1-mask</th>\n",
       "      <th>2-feature_salinity</th>\n",
       "      <th>2-feature_temperature</th>\n",
       "      <th>3-homogeniser</th>\n",
       "      <th>4-xarray</th>\n",
       "    </tr>\n",
       "    <tr>\n",
       "      <th>Method</th>\n",
       "      <th></th>\n",
       "      <th></th>\n",
       "      <th></th>\n",
       "      <th></th>\n",
       "      <th></th>\n",
       "    </tr>\n",
       "  </thead>\n",
       "  <tbody>\n",
       "    <tr>\n",
       "      <th>fit</th>\n",
       "      <td>22.429943</td>\n",
       "      <td>118.067026</td>\n",
       "      <td>140.964270</td>\n",
       "      <td>2.250910</td>\n",
       "      <td>1.566172</td>\n",
       "    </tr>\n",
       "    <tr>\n",
       "      <th>fit_predict</th>\n",
       "      <td>19.100904</td>\n",
       "      <td>91.344118</td>\n",
       "      <td>90.978861</td>\n",
       "      <td>3.854275</td>\n",
       "      <td>1.348734</td>\n",
       "    </tr>\n",
       "    <tr>\n",
       "      <th>predict</th>\n",
       "      <td>23.853064</td>\n",
       "      <td>81.003904</td>\n",
       "      <td>88.092804</td>\n",
       "      <td>1.327991</td>\n",
       "      <td>1.497030</td>\n",
       "    </tr>\n",
       "  </tbody>\n",
       "</table>\n",
       "</div>"
      ],
      "text/plain": [
       "Sub-sub-method     1-mask  2-feature_salinity  2-feature_temperature  \\\n",
       "Method                                                                 \n",
       "fit             22.429943          118.067026             140.964270   \n",
       "fit_predict     19.100904           91.344118              90.978861   \n",
       "predict         23.853064           81.003904              88.092804   \n",
       "\n",
       "Sub-sub-method  3-homogeniser  4-xarray  \n",
       "Method                                   \n",
       "fit                  2.250910  1.566172  \n",
       "fit_predict          3.854275  1.348734  \n",
       "predict              1.327991  1.497030  "
      ]
     },
     "execution_count": 8,
     "metadata": {},
     "output_type": "execute_result"
    },
    {
     "data": {
      "image/png": "[encoded data removed]",
      "text/plain": [
       "<Figure size 450x270 with 1 Axes>"
      ]
     },
     "metadata": {},
     "output_type": "display_data"
    }
   ],
   "source": [
    "fig, ax, df = m.plot.timeit(group='Method', split='Sub-sub-method')\n",
    "df"
   ]
  },
  {
   "cell_type": "markdown",
   "metadata": {
    "papermill": {
     "duration": 0.012713,
     "end_time": "2020-06-25T15:14:22.067219",
     "exception": false,
     "start_time": "2020-06-25T15:14:22.054506",
     "status": "completed"
    },
    "tags": []
   },
   "source": [
    "### Preprocessing details by method"
   ]
  },
  {
   "cell_type": "code",
   "execution_count": 9,
   "metadata": {
    "execution": {
     "iopub.execute_input": "2020-06-25T15:14:22.100201Z",
     "iopub.status.busy": "2020-06-25T15:14:22.098098Z",
     "iopub.status.idle": "2020-06-25T15:14:22.379660Z",
     "shell.execute_reply": "2020-06-25T15:14:22.378984Z"
    },
    "papermill": {
     "duration": 0.300289,
     "end_time": "2020-06-25T15:14:22.379791",
     "exception": false,
     "start_time": "2020-06-25T15:14:22.079502",
     "status": "completed"
    },
    "tags": []
   },
   "outputs": [
    {
     "data": {
      "text/html": [
       "<div>\n",
       "<style scoped>\n",
       "    .dataframe tbody tr th:only-of-type {\n",
       "        vertical-align: middle;\n",
       "    }\n",
       "\n",
       "    .dataframe tbody tr th {\n",
       "        vertical-align: top;\n",
       "    }\n",
       "\n",
       "    .dataframe thead th {\n",
       "        text-align: right;\n",
       "    }\n",
       "</style>\n",
       "<table border=\"1\" class=\"dataframe\">\n",
       "  <thead>\n",
       "    <tr style=\"text-align: right;\">\n",
       "      <th>Sub-sub-sub-method</th>\n",
       "      <th>1-ravel</th>\n",
       "      <th>2-interp</th>\n",
       "      <th>3-scale_fit</th>\n",
       "      <th>4-scale_transform</th>\n",
       "      <th>5-reduce_fit</th>\n",
       "      <th>6-reduce_transform</th>\n",
       "    </tr>\n",
       "    <tr>\n",
       "      <th>Method</th>\n",
       "      <th></th>\n",
       "      <th></th>\n",
       "      <th></th>\n",
       "      <th></th>\n",
       "      <th></th>\n",
       "      <th></th>\n",
       "    </tr>\n",
       "  </thead>\n",
       "  <tbody>\n",
       "    <tr>\n",
       "      <th>fit</th>\n",
       "      <td>66.307068</td>\n",
       "      <td>2.079248</td>\n",
       "      <td>19.708157</td>\n",
       "      <td>10.671616</td>\n",
       "      <td>24.419069</td>\n",
       "      <td>6.174803</td>\n",
       "    </tr>\n",
       "    <tr>\n",
       "      <th>fit_predict</th>\n",
       "      <td>68.403482</td>\n",
       "      <td>2.030134</td>\n",
       "      <td>0.002861</td>\n",
       "      <td>11.577606</td>\n",
       "      <td>0.002861</td>\n",
       "      <td>9.014130</td>\n",
       "    </tr>\n",
       "    <tr>\n",
       "      <th>predict</th>\n",
       "      <td>63.980103</td>\n",
       "      <td>1.899958</td>\n",
       "      <td>0.001669</td>\n",
       "      <td>11.173010</td>\n",
       "      <td>0.003099</td>\n",
       "      <td>7.338047</td>\n",
       "    </tr>\n",
       "  </tbody>\n",
       "</table>\n",
       "</div>"
      ],
      "text/plain": [
       "Sub-sub-sub-method    1-ravel  2-interp  3-scale_fit  4-scale_transform  \\\n",
       "Method                                                                    \n",
       "fit                 66.307068  2.079248    19.708157          10.671616   \n",
       "fit_predict         68.403482  2.030134     0.002861          11.577606   \n",
       "predict             63.980103  1.899958     0.001669          11.173010   \n",
       "\n",
       "Sub-sub-sub-method  5-reduce_fit  6-reduce_transform  \n",
       "Method                                                \n",
       "fit                    24.419069            6.174803  \n",
       "fit_predict             0.002861            9.014130  \n",
       "predict                 0.003099            7.338047  "
      ]
     },
     "execution_count": 9,
     "metadata": {},
     "output_type": "execute_result"
    },
    {
     "data": {
      "image/png": "[encoded data removed]",
      "text/plain": [
       "<Figure size 450x270 with 1 Axes>"
      ]
     },
     "metadata": {},
     "output_type": "display_data"
    }
   ],
   "source": [
    "fig, ax, df = m.plot.timeit(group='Method', split='Sub-sub-sub-method')\n",
    "df"
   ]
  },
  {
   "cell_type": "markdown",
   "metadata": {
    "papermill": {
     "duration": 0.014043,
     "end_time": "2020-06-25T15:14:22.406791",
     "exception": false,
     "start_time": "2020-06-25T15:14:22.392748",
     "status": "completed"
    },
    "tags": []
   },
   "source": [
    "### Preprocessing details by features"
   ]
  },
  {
   "cell_type": "code",
   "execution_count": 10,
   "metadata": {
    "execution": {
     "iopub.execute_input": "2020-06-25T15:14:22.442134Z",
     "iopub.status.busy": "2020-06-25T15:14:22.441716Z",
     "iopub.status.idle": "2020-06-25T15:14:22.696674Z",
     "shell.execute_reply": "2020-06-25T15:14:22.696288Z"
    },
    "papermill": {
     "duration": 0.275326,
     "end_time": "2020-06-25T15:14:22.696744",
     "exception": false,
     "start_time": "2020-06-25T15:14:22.421418",
     "status": "completed"
    },
    "tags": []
   },
   "outputs": [
    {
     "data": {
      "text/html": [
       "<div>\n",
       "<style scoped>\n",
       "    .dataframe tbody tr th:only-of-type {\n",
       "        vertical-align: middle;\n",
       "    }\n",
       "\n",
       "    .dataframe tbody tr th {\n",
       "        vertical-align: top;\n",
       "    }\n",
       "\n",
       "    .dataframe thead th {\n",
       "        text-align: right;\n",
       "    }\n",
       "</style>\n",
       "<table border=\"1\" class=\"dataframe\">\n",
       "  <thead>\n",
       "    <tr style=\"text-align: right;\">\n",
       "      <th>Sub-sub-sub-method</th>\n",
       "      <th>1-ravel</th>\n",
       "      <th>2-interp</th>\n",
       "      <th>3-scale_fit</th>\n",
       "      <th>4-scale_transform</th>\n",
       "      <th>5-reduce_fit</th>\n",
       "      <th>6-reduce_transform</th>\n",
       "    </tr>\n",
       "    <tr>\n",
       "      <th>Sub-sub-method</th>\n",
       "      <th></th>\n",
       "      <th></th>\n",
       "      <th></th>\n",
       "      <th></th>\n",
       "      <th></th>\n",
       "      <th></th>\n",
       "    </tr>\n",
       "  </thead>\n",
       "  <tbody>\n",
       "    <tr>\n",
       "      <th>2-feature_salinity</th>\n",
       "      <td>0.094785</td>\n",
       "      <td>0.002882</td>\n",
       "      <td>0.008617</td>\n",
       "      <td>0.017032</td>\n",
       "      <td>0.010785</td>\n",
       "      <td>0.010904</td>\n",
       "    </tr>\n",
       "    <tr>\n",
       "      <th>2-feature_temperature</th>\n",
       "      <td>0.103906</td>\n",
       "      <td>0.003127</td>\n",
       "      <td>0.011096</td>\n",
       "      <td>0.016391</td>\n",
       "      <td>0.013640</td>\n",
       "      <td>0.011623</td>\n",
       "    </tr>\n",
       "  </tbody>\n",
       "</table>\n",
       "</div>"
      ],
      "text/plain": [
       "Sub-sub-sub-method      1-ravel  2-interp  3-scale_fit  4-scale_transform  \\\n",
       "Sub-sub-method                                                              \n",
       "2-feature_salinity     0.094785  0.002882     0.008617           0.017032   \n",
       "2-feature_temperature  0.103906  0.003127     0.011096           0.016391   \n",
       "\n",
       "Sub-sub-sub-method     5-reduce_fit  6-reduce_transform  \n",
       "Sub-sub-method                                           \n",
       "2-feature_salinity         0.010785            0.010904  \n",
       "2-feature_temperature      0.013640            0.011623  "
      ]
     },
     "execution_count": 10,
     "metadata": {},
     "output_type": "execute_result"
    },
    {
     "data": {
      "image/png": "[encoded data removed]",
      "text/plain": [
       "<Figure size 450x270 with 1 Axes>"
      ]
     },
     "metadata": {},
     "output_type": "display_data"
    }
   ],
   "source": [
    "fig, ax, df = m.plot.timeit(split='Sub-sub-sub-method', group='Sub-sub-method', unit='s')\n",
    "df"
   ]
  }
 ],
 "metadata": {
  "kernelspec": {
   "display_name": "obidam36",
   "language": "python",
   "name": "obidam36"
  },
  "language_info": {
   "codemirror_mode": {
    "name": "ipython",
    "version": 3
   },
   "file_extension": ".py",
   "mimetype": "text/x-python",
   "name": "python",
   "nbconvert_exporter": "python",
   "pygments_lexer": "ipython3",
   "version": "3.6.10"
  },
  "papermill": {
   "duration": 16.063062,
   "end_time": "2020-06-25T15:14:23.959936",
   "environment_variables": {},
   "exception": null,
   "input_path": "debug_perf.ipynb",
   "output_path": "../debug_perf.ipynb",
   "parameters": {},
   "start_time": "2020-06-25T15:14:07.896874",
   "version": "2.1.1"
  },
  "toc-showmarkdowntxt": true
 },
 "nbformat": 4,
 "nbformat_minor": 2
}