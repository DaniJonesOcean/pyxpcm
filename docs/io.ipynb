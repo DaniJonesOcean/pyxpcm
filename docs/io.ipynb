{
 "cells": [
  {
   "cell_type": "markdown",
   "metadata": {
    "papermill": {
     "duration": 0.00561,
     "end_time": "2020-06-25T15:14:01.928910",
     "exception": false,
     "start_time": "2020-06-25T15:14:01.923300",
     "status": "completed"
    },
    "tags": []
   },
   "source": [
    "# Save and load PCM from local files\n",
    "\n",
    "PCM instances are light weigth python objects and can easily be saved on and loaded from files. pyXpcm uses the netcdf file format because it is easy to add meta-data to numerical arrays."
   ]
  },
  {
   "cell_type": "code",
   "execution_count": 1,
   "metadata": {
    "execution": {
     "iopub.execute_input": "2020-06-25T15:14:01.944307Z",
     "iopub.status.busy": "2020-06-25T15:14:01.943775Z",
     "iopub.status.idle": "2020-06-25T15:14:04.093602Z",
     "shell.execute_reply": "2020-06-25T15:14:04.093967Z"
    },
    "nbsphinx": "hidden",
    "papermill": {
     "duration": 2.160699,
     "end_time": "2020-06-25T15:14:04.094071",
     "exception": false,
     "start_time": "2020-06-25T15:14:01.933372",
     "status": "completed"
    },
    "tags": []
   },
   "outputs": [
    {
     "name": "stdout",
     "output_type": "stream",
     "text": [
      "xarray: 0.15.1, /Users/gmaze/anaconda/envs/obidam36/lib/python3.6/site-packages/xarray/__init__.py\n"
     ]
    },
    {
     "name": "stdout",
     "output_type": "stream",
     "text": [
      "pyxpcm: 0.4.1, /Users/gmaze/git/github/gmaze/pyxpcm/pyxpcm/__init__.py\n"
     ]
    }
   ],
   "source": [
    "# Hidden cell\n",
    "import os, sys\n",
    "import numpy as np\n",
    "import pandas as pd\n",
    "import xarray as xr\n",
    "print(\"xarray: %s, %s\" % (xr.__version__, xr.__file__))\n",
    "\n",
    "import matplotlib.pyplot as plt\n",
    "%matplotlib inline\n",
    "\n",
    "sys.path.insert(0, os.path.abspath('/Users/gmaze/git/github/gmaze/pyxpcm'))\n",
    "import pyxpcm\n",
    "print(\"pyxpcm: %s, %s\" % (pyxpcm.__version__, pyxpcm.__file__))"
   ]
  },
  {
   "cell_type": "markdown",
   "metadata": {
    "papermill": {
     "duration": 0.004991,
     "end_time": "2020-06-25T15:14:04.103454",
     "exception": false,
     "start_time": "2020-06-25T15:14:04.098463",
     "status": "completed"
    },
    "tags": []
   },
   "source": [
    "**Import and set-up**\n",
    "\n",
    "Import the library and toy data"
   ]
  },
  {
   "cell_type": "code",
   "execution_count": 2,
   "metadata": {
    "execution": {
     "iopub.execute_input": "2020-06-25T15:14:04.116442Z",
     "iopub.status.busy": "2020-06-25T15:14:04.115956Z",
     "iopub.status.idle": "2020-06-25T15:14:04.158377Z",
     "shell.execute_reply": "2020-06-25T15:14:04.157930Z"
    },
    "papermill": {
     "duration": 0.050436,
     "end_time": "2020-06-25T15:14:04.158456",
     "exception": false,
     "start_time": "2020-06-25T15:14:04.108020",
     "status": "completed"
    },
    "tags": []
   },
   "outputs": [],
   "source": [
    "import pyxpcm\n",
    "from pyxpcm.models import pcm\n",
    "\n",
    "# Load tutorial data:\n",
    "ds = pyxpcm.tutorial.open_dataset('argo').load()"
   ]
  },
  {
   "cell_type": "markdown",
   "metadata": {
    "papermill": {
     "duration": 0.004265,
     "end_time": "2020-06-25T15:14:04.167183",
     "exception": false,
     "start_time": "2020-06-25T15:14:04.162918",
     "status": "completed"
    },
    "tags": []
   },
   "source": [
    "## Saving a model\n",
    "\n",
    "Let's first create a PCM and fit it onto the tutorial dataset:"
   ]
  },
  {
   "cell_type": "code",
   "execution_count": 3,
   "metadata": {
    "execution": {
     "iopub.execute_input": "2020-06-25T15:14:04.182506Z",
     "iopub.status.busy": "2020-06-25T15:14:04.182077Z",
     "iopub.status.idle": "2020-06-25T15:14:06.183145Z",
     "shell.execute_reply": "2020-06-25T15:14:06.182595Z"
    },
    "papermill": {
     "duration": 2.011018,
     "end_time": "2020-06-25T15:14:06.183313",
     "exception": false,
     "start_time": "2020-06-25T15:14:04.172295",
     "status": "completed"
    },
    "tags": []
   },
   "outputs": [
    {
     "data": {
      "text/plain": [
       "<pcm 'gmm' (K: 4, F: 2)>\n",
       "Number of class: 4\n",
       "Number of feature: 2\n",
       "Feature names: odict_keys(['temperature', 'salinity'])\n",
       "Fitted: True\n",
       "Feature: 'temperature'\n",
       "\t Interpoler: <class 'pyxpcm.utils.Vertical_Interpolator'>\n",
       "\t Scaler: 'normal', <class 'sklearn.preprocessing._data.StandardScaler'>\n",
       "\t Reducer: True, <class 'sklearn.decomposition._pca.PCA'>\n",
       "Feature: 'salinity'\n",
       "\t Interpoler: <class 'pyxpcm.utils.Vertical_Interpolator'>\n",
       "\t Scaler: 'normal', <class 'sklearn.preprocessing._data.StandardScaler'>\n",
       "\t Reducer: True, <class 'sklearn.decomposition._pca.PCA'>\n",
       "Classifier: 'gmm', <class 'sklearn.mixture._gaussian_mixture.GaussianMixture'>\n",
       "\t log likelihood of the training set: 33.234424"
      ]
     },
     "execution_count": 3,
     "metadata": {},
     "output_type": "execute_result"
    }
   ],
   "source": [
    "# Define a vertical axis to work with\n",
    "z = np.arange(0.,-1000,-10.)\n",
    "\n",
    "# Define features to use\n",
    "features_pcm = {'temperature': z, 'salinity': z}\n",
    "\n",
    "# Instantiate the PCM:\n",
    "m = pcm(K=4, features=features_pcm)\n",
    "\n",
    "# Fit:\n",
    "m.fit(ds, features={'temperature': 'TEMP', 'salinity': 'PSAL'})"
   ]
  },
  {
   "cell_type": "markdown",
   "metadata": {
    "papermill": {
     "duration": 0.00552,
     "end_time": "2020-06-25T15:14:06.196703",
     "exception": false,
     "start_time": "2020-06-25T15:14:06.191183",
     "status": "completed"
    },
    "tags": []
   },
   "source": [
    "We can now save the fitted model to a local file:"
   ]
  },
  {
   "cell_type": "code",
   "execution_count": 4,
   "metadata": {
    "execution": {
     "iopub.execute_input": "2020-06-25T15:14:06.214921Z",
     "iopub.status.busy": "2020-06-25T15:14:06.214349Z",
     "iopub.status.idle": "2020-06-25T15:14:06.288357Z",
     "shell.execute_reply": "2020-06-25T15:14:06.288767Z"
    },
    "papermill": {
     "duration": 0.084754,
     "end_time": "2020-06-25T15:14:06.288871",
     "exception": false,
     "start_time": "2020-06-25T15:14:06.204117",
     "status": "completed"
    },
    "tags": []
   },
   "outputs": [],
   "source": [
    "m.to_netcdf('my_pcm.nc')"
   ]
  },
  {
   "cell_type": "markdown",
   "metadata": {
    "papermill": {
     "duration": 0.006868,
     "end_time": "2020-06-25T15:14:06.302236",
     "exception": false,
     "start_time": "2020-06-25T15:14:06.295368",
     "status": "completed"
    },
    "tags": []
   },
   "source": [
    "## Loading a model\n",
    "\n",
    "To load a PCM from file, use: "
   ]
  },
  {
   "cell_type": "code",
   "execution_count": 5,
   "metadata": {
    "execution": {
     "iopub.execute_input": "2020-06-25T15:14:06.327561Z",
     "iopub.status.busy": "2020-06-25T15:14:06.326754Z",
     "iopub.status.idle": "2020-06-25T15:14:06.372139Z",
     "shell.execute_reply": "2020-06-25T15:14:06.372548Z"
    },
    "papermill": {
     "duration": 0.061442,
     "end_time": "2020-06-25T15:14:06.372668",
     "exception": false,
     "start_time": "2020-06-25T15:14:06.311226",
     "status": "completed"
    },
    "tags": []
   },
   "outputs": [
    {
     "data": {
      "text/plain": [
       "<pcm 'gmm' (K: 4, F: 2)>\n",
       "Number of class: 4\n",
       "Number of feature: 2\n",
       "Feature names: odict_keys(['temperature', 'salinity'])\n",
       "Fitted: True\n",
       "Feature: 'temperature'\n",
       "\t Interpoler: <class 'pyxpcm.utils.Vertical_Interpolator'>\n",
       "\t Scaler: 'normal', <class 'sklearn.preprocessing._data.StandardScaler'>\n",
       "\t Reducer: True, <class 'sklearn.decomposition._pca.PCA'>\n",
       "Feature: 'salinity'\n",
       "\t Interpoler: <class 'pyxpcm.utils.Vertical_Interpolator'>\n",
       "\t Scaler: 'normal', <class 'sklearn.preprocessing._data.StandardScaler'>\n",
       "\t Reducer: True, <class 'sklearn.decomposition._pca.PCA'>\n",
       "Classifier: 'gmm', <class 'sklearn.mixture._gaussian_mixture.GaussianMixture'>\n",
       "\t log likelihood of the training set: 33.234424"
      ]
     },
     "execution_count": 5,
     "metadata": {},
     "output_type": "execute_result"
    }
   ],
   "source": [
    "m_loaded = pyxpcm.load_netcdf('my_pcm.nc')\n",
    "m_loaded"
   ]
  }
 ],
 "metadata": {
  "kernelspec": {
   "display_name": "obidam36",
   "language": "python",
   "name": "obidam36"
  },
  "language_info": {
   "codemirror_mode": {
    "name": "ipython",
    "version": 3
   },
   "file_extension": ".py",
   "mimetype": "text/x-python",
   "name": "python",
   "nbconvert_exporter": "python",
   "pygments_lexer": "ipython3",
   "version": "3.6.10"
  },
  "papermill": {
   "duration": 7.039833,
   "end_time": "2020-06-25T15:14:07.868094",
   "environment_variables": {},
   "exception": null,
   "input_path": "io.ipynb",
   "output_path": "../io.ipynb",
   "parameters": {},
   "start_time": "2020-06-25T15:14:00.828261",
   "version": "2.1.1"
  }
 },
 "nbformat": 4,
 "nbformat_minor": 2
}